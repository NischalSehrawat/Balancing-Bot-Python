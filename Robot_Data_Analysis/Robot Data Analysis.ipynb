{
 "cells": [
  {
   "cell_type": "markdown",
   "metadata": {},
   "source": [
    "# Notebook for analysis data generated from the Segway"
   ]
  },
  {
   "cell_type": "code",
   "execution_count": null,
   "metadata": {},
   "outputs": [
    {
     "data": {
      "text/plain": [
       "Text(0.5,0,'T [s]')"
      ]
     },
     "execution_count": 13,
     "metadata": {},
     "output_type": "execute_result"
    }
   ],
   "source": [
    "%matplotlib inline\n",
    "import pandas as pd\n",
    "import pickle\n",
    "import numpy as np\n",
    "import matplotlib.pyplot as plt\n",
    "\n",
    "df1 = pd.read_csv(\"Set_2.txt\")\n",
    "\n",
    "df1[\"DN(Lmot-Rmot)\"] = df1[\"DN_Lmot\"] - df1[\"DN_Rmot\"]\n",
    "\n",
    "#cols2plot = df1.columns\n",
    "\n",
    "cols2plot = ['Theta_now','V_trans','Output_lmot','DN(Lmot-Rmot)']\n",
    "units = [\"Deg\", \"[m/s]\", \"PWM\", \"$\\Delta$ Ticks(L-R)\", \"Ticks\", \"Ticks\"]\n",
    "\n",
    "clr = ['r','g','b','k','b','g', 'r', 'c', 'm']\n",
    "\n",
    "dt = 0.02 # Sampling time [s]\n",
    "\n",
    "t = [i*dt for i in range(len(df1)) ]\n",
    "k1 = 0; k2 = len(df1);\n",
    "\n",
    "plt.close(\"all\")\n",
    "plt.figure(figsize = (15,10))\n",
    "plt.suptitle(\"Parameters of the robot in rest position subjected to push\", fontsize = 16)\n",
    "\n",
    "for i,col, unit in zip(range(len(cols2plot)), cols2plot, units):\n",
    "    plt.subplot(len(cols2plot),1,i+1)\n",
    "    plt.step(t[k1:k2], df1.loc[k1:k2, col], clr[i], label = col)\n",
    "    plt.legend(loc = \"upper right\")\n",
    "    plt.ylabel(unit, fontsize = 14)\n",
    "    plt.yticks(fontsize = 14)\n",
    "\n",
    "plt.xlabel(\"T [s]\")\n",
    "\n",
    "#a = df1[\"V_trans\"]\n",
    "#y = np.fft.fft(a) # Getting complex coefficients of the data points in frequency domain\n",
    "#\n",
    "#C = np.fft.fftfreq(len(t),dt)# Getting the frequency bins [Hz]\n",
    "#\n",
    "#plt.figure()\n",
    "#plt.subplot(211)\n",
    "#plt.plot(t,a, label = 'Horizontal direction')\n",
    "#plt.subplot(212)\n",
    "#plt.plot(C[C>0],abs(y[C>0])/(0.5*len(y)))\n",
    "#plt.xlim(0,2)\n",
    "#plt.xlabel(\"Frequency [Hz]\")\n",
    "#plt.ylabel(\"Amplitude [mm/s]\")\n"
   ]
  },
  {
   "cell_type": "code",
   "execution_count": null,
   "metadata": {},
   "outputs": [],
   "source": []
  }
 ],
 "metadata": {
  "kernelspec": {
   "display_name": "Python 3",
   "language": "python",
   "name": "python3"
  },
  "language_info": {
   "codemirror_mode": {
    "name": "ipython",
    "version": 3
   },
   "file_extension": ".py",
   "mimetype": "text/x-python",
   "name": "python",
   "nbconvert_exporter": "python",
   "pygments_lexer": "ipython3",
   "version": "3.6.5"
  }
 },
 "nbformat": 4,
 "nbformat_minor": 2
}
